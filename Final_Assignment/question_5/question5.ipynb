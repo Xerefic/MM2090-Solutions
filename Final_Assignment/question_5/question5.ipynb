{
 "cells": [
  {
   "cell_type": "code",
   "execution_count": null,
   "metadata": {},
   "outputs": [],
   "source": [
    "import cv2\n",
    "import numpy as np\n",
    "\n",
    "from scipy.ndimage.filters import convolve\n",
    "\n",
    "from tqdm import trange"
   ]
  },
  {
   "cell_type": "markdown",
   "metadata": {},
   "source": [
    "## Computing Energy\n",
    "\n",
    "The energy is computed by $e_i(I)=\\left|\\frac{\\partial I}{\\partial x}\\right| + \\left|\\frac{\\partial I}{\\partial y}\\right|$. \n",
    "\n",
    "Using Sobel Filters, \\\n",
    "$p^{\\prime}_u = \\begin{bmatrix} +1 & +2 & +1\\\\ 0 & 0 & 0 \\\\ -1 & -2 & -1 \\end{bmatrix} \\circledast I$ and \n",
    "$p^{\\prime}_v = \\begin{bmatrix} +1 & 0 & -1\\\\ +2 & 0 & -2 \\\\ +1 & 0 & -1 \\end{bmatrix} \\circledast I$, we compute the derivative as $e_i(I)=\\left|p^{\\prime}_u\\right| + \\left|p^{\\prime}_v\\right|$.\n",
    "\n",
    "[Source](https://en.wikipedia.org/wiki/Image_derivatives)"
   ]
  },
  {
   "cell_type": "markdown",
   "metadata": {},
   "source": [
    "## Finding the Seam with least Energy\n",
    "\n",
    "To compute the seam with the least energy, we dynamically compute $M\\left(i,j\\right)=e\\left(i,j\\right)+\\min\\left( M\\left(i-1,j-1\\right), M\\left(i-1,j\\right), M\\left(i-1,j+1\\right)\\right)$ where $M\\left(i,j\\right)$ stores the minimum energy value stored upto the pixel $\\left(i,j\\right)$.\n",
    "\n",
    "The minimum energy thus will be stored in the last row of **M** and **backtrack** stores the list of pixels present in this s\n",
    "\n",
    "[Inspired from](https://karthikkaranth.me/blog/implementing-seam-carving-with-python/)"
   ]
  },
  {
   "cell_type": "markdown",
   "metadata": {},
   "source": [
    "## Deleting the Minimum Seam\n",
    "\n",
    "We recursively remove the seam with minimum energy till we reach the image of required size."
   ]
  },
  {
   "cell_type": "code",
   "execution_count": null,
   "metadata": {},
   "outputs": [],
   "source": [
    "class Seam():\n",
    "    def __init__(self, path):\n",
    "        self.image = cv2.imread(path)\n",
    "        self.name = path.split('.')[0]\n",
    "    \n",
    "    def findEnergy(self, image):\n",
    "        filter_du = np.array([ [1.0, 2.0, 1.0], [0.0, 0.0, 0.0], [-1.0, -2.0, -1.0],])\n",
    "        filter_dv = np.array([ [1.0, 0.0, -1.0], [2.0, 0.0, -2.0], [1.0, 0.0, -1.0],])\n",
    "\n",
    "        filter_du = np.stack([filter_du] * 3, axis=2)\n",
    "        filter_dv = np.stack([filter_dv] * 3, axis=2)\n",
    "\n",
    "        convolved = np.absolute(convolve(image, filter_du)) + np.absolute(convolve(image, filter_dv))\n",
    "\n",
    "        energy = convolved.sum(axis=2)\n",
    "\n",
    "        return energy\n",
    "    \n",
    "    def minimum_seam(self, image):\n",
    "        row, column, _ = image.shape\n",
    "        energy = self.findEnergy(image)\n",
    "\n",
    "        M = energy.copy()\n",
    "        backtrack = np.zeros_like(M, dtype=np.int)\n",
    "\n",
    "        for i in range(1, row):\n",
    "            for j in range(0, column):\n",
    "\n",
    "                if j == 0:\n",
    "                    idx = np.argmin( M[i-1, j:j+2] )\n",
    "                    backtrack[i, j] = idx + j\n",
    "                    min_energy = M[i-1, idx+j]\n",
    "                else:\n",
    "                    idx = np.argmin(M[i-1, j-1:j+2])\n",
    "                    backtrack[i, j] = idx +j-1\n",
    "                    min_energy = M[i-1, idx+j-1]\n",
    "\n",
    "                M[i, j] += min_energy\n",
    "\n",
    "        return M, backtrack\n",
    "    \n",
    "    def carve(self, image):\n",
    "        row, column, _ = image.shape\n",
    "\n",
    "        M, backtrack = self.minimum_seam(image)\n",
    "\n",
    "        mask = np.ones((row, column), dtype=np.bool)\n",
    "\n",
    "        j = np.argmin(M[-1])\n",
    "\n",
    "        for i in reversed(range(row)):\n",
    "\n",
    "            mask[i, j] = False\n",
    "            j = backtrack[i, j]\n",
    "\n",
    "        mask = np.stack([mask] * 3, axis=2)\n",
    "\n",
    "        image = image[mask].reshape((row, column-1, 3))\n",
    "\n",
    "        return image   \n",
    "    \n",
    "    def crop(self, image, scale):\n",
    "        row, column, _ = image.shape\n",
    "        new = int(scale * column)\n",
    "\n",
    "        for i in trange(column - new):\n",
    "            image = self.carve(image)\n",
    "\n",
    "        return image\n",
    "    \n",
    "    def crop_column(self, scale_column):\n",
    "        image = self.image\n",
    "        image = self.crop(image, scale_column)\n",
    "        \n",
    "        fname = self.name + \"_scaled_column_by_\" + str(scale_column) + \".png\"\n",
    "        cv2.imwrite(fname, image)\n",
    "        return image\n",
    "\n",
    "    def crop_row(self, scale_row):\n",
    "        image = self.image\n",
    "        image = np.rot90(image, 1, (0, 1))\n",
    "        image = self.crop(image, scale_row)\n",
    "        image = np.rot90(image, 3, (0, 1))\n",
    "                    \n",
    "        fname = self.name + \"_scaled_row_by_\" + str(scale_row) + \".png\"\n",
    "        cv2.imwrite(fname, image)\n",
    "\n",
    "        return image"
   ]
  },
  {
   "cell_type": "code",
   "execution_count": null,
   "metadata": {},
   "outputs": [],
   "source": [
    "img1 = Seam(\"Image-1.jpg\")\n",
    "out1 = img1.crop_column(0.5)"
   ]
  },
  {
   "cell_type": "code",
   "execution_count": null,
   "metadata": {},
   "outputs": [],
   "source": [
    "img2 = Seam(\"Image-2.jpg\")\n",
    "out2 = img2.crop_column(0.5)"
   ]
  },
  {
   "cell_type": "code",
   "execution_count": null,
   "metadata": {},
   "outputs": [],
   "source": []
  }
 ],
 "metadata": {
  "kernelspec": {
   "display_name": "Python 3.8.5 64-bit ('base': conda)",
   "language": "python",
   "name": "python385jvsc74a57bd00aecec0a255461a7fdf48717fca0ab45832ba4249b9229dde511dcafce9ade38"
  },
  "language_info": {
   "codemirror_mode": {
    "name": "ipython",
    "version": 3
   },
   "file_extension": ".py",
   "mimetype": "text/x-python",
   "name": "python",
   "nbconvert_exporter": "python",
   "pygments_lexer": "ipython3",
   "version": "3.8.5"
  }
 },
 "nbformat": 4,
 "nbformat_minor": 4
}
