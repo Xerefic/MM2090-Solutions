{
 "cells": [
  {
   "cell_type": "code",
   "execution_count": 1,
   "metadata": {},
   "outputs": [],
   "source": [
    "import numpy as np\n",
    "import matplotlib.pyplot as plt\n",
    "%matplotlib inline"
   ]
  },
  {
   "cell_type": "code",
   "execution_count": 2,
   "metadata": {},
   "outputs": [],
   "source": [
    "max_time = 720\n",
    "ambient = 300\n",
    "N_max = 10**4\n",
    "\n",
    "time = np.array(range(1,max_time+1))\n",
    "anomoly = int(N_max/3 + np.random.rand()*N_max/3)\n",
    "\n",
    "noise = -0.2 + np.random.rand(1, max_time)\n",
    "temp = np.ones((1, max_time))*ambient + noise\n",
    "temp = temp.reshape((max_time))\n",
    "#temp[0,anomoly-1:anomoly+1]+= 10"
   ]
  },
  {
   "cell_type": "code",
   "execution_count": 3,
   "metadata": {},
   "outputs": [],
   "source": [
    "window = temp\n",
    "while(N_max>0):\n",
    "    #window = window[1:]\n",
    "    if abs(N_max-anomoly)<=1:\n",
    "        window = np.concatenate((window, [ambient-0.2+np.random.rand()+10]), axis=None)\n",
    "    else:\n",
    "        window = np.concatenate((window, [ambient-0.2+np.random.rand()]), axis=None)\n",
    "    N_max -=1"
   ]
  },
  {
   "cell_type": "code",
   "execution_count": 4,
   "metadata": {},
   "outputs": [
    {
     "data": {
      "text/plain": [
       "[<matplotlib.lines.Line2D at 0x7fc3fa3fed90>]"
      ]
     },
     "execution_count": 4,
     "metadata": {},
     "output_type": "execute_result"
    },
    {
     "data": {
      "image/png": "[encoded data removed]",
      "text/plain": [
       "<Figure size 432x288 with 1 Axes>"
      ]
     },
     "metadata": {
      "needs_background": "light"
     },
     "output_type": "display_data"
    }
   ],
   "source": [
    "plt.plot( np.array(range(len(window))), window )"
   ]
  },
  {
   "cell_type": "code",
   "execution_count": 8,
   "metadata": {},
   "outputs": [],
   "source": [
    "detected = np.median(window)"
   ]
  },
  {
   "cell_type": "code",
   "execution_count": null,
   "metadata": {},
   "outputs": [],
   "source": []
  }
 ],
 "metadata": {
  "kernelspec": {
   "display_name": "Python 3.8.5 64-bit ('base': conda)",
   "language": "python",
   "name": "python385jvsc74a57bd00aecec0a255461a7fdf48717fca0ab45832ba4249b9229dde511dcafce9ade38"
  },
  "language_info": {
   "codemirror_mode": {
    "name": "ipython",
    "version": 3
   },
   "file_extension": ".py",
   "mimetype": "text/x-python",
   "name": "python",
   "nbconvert_exporter": "python",
   "pygments_lexer": "ipython3",
   "version": "3.8.5"
  }
 },
 "nbformat": 4,
 "nbformat_minor": 4
}
