{
 "cells": [
  {
   "cell_type": "code",
   "execution_count": 1,
   "metadata": {},
   "outputs": [],
   "source": [
    "import numpy as np\n",
    "\n",
    "import cv2\n",
    "\n",
    "import matplotlib.pyplot as plt\n",
    "%matplotlib inline"
   ]
  },
  {
   "cell_type": "markdown",
   "metadata": {},
   "source": [
    "## Initializing the State"
   ]
  },
  {
   "cell_type": "code",
   "execution_count": 2,
   "metadata": {},
   "outputs": [],
   "source": [
    "n = 128\n",
    "state = np.zeros((n,n))"
   ]
  },
  {
   "cell_type": "code",
   "execution_count": 3,
   "metadata": {},
   "outputs": [
    {
     "data": {
      "text/plain": [
       "<matplotlib.image.AxesImage at 0x7f1235365340>"
      ]
     },
     "execution_count": 3,
     "metadata": {},
     "output_type": "execute_result"
    },
    {
     "data": {
      "image/png": "[encoded data removed]",
      "text/plain": [
       "<Figure size 432x288 with 1 Axes>"
      ]
     },
     "metadata": {
      "needs_background": "light"
     },
     "output_type": "display_data"
    }
   ],
   "source": [
    "plt.imshow(state)"
   ]
  },
  {
   "cell_type": "code",
   "execution_count": 4,
   "metadata": {},
   "outputs": [],
   "source": [
    "# Randomly identifying a start location\n",
    "start = ( int(n/3+np.random.rand()*n/3), int(n/3+np.random.rand()*n/3) )"
   ]
  },
  {
   "cell_type": "markdown",
   "metadata": {},
   "source": [
    "## Evolving the State\n",
    "\n",
    "Using **orient** to keep track of the direction of traversal. "
   ]
  },
  {
   "cell_type": "code",
   "execution_count": 5,
   "metadata": {},
   "outputs": [],
   "source": [
    "N = 2*10**4 # Number of timesteps\n",
    "\n",
    "pos = start\n",
    "orient = 0\n",
    "for time in range(N):\n",
    "    # Updating the current state\n",
    "    if state[pos]==0.0:\n",
    "        state[pos] = 255.0\n",
    "        orient = (orient+1)%4 # Turning clockwise\n",
    "    elif state[pos]==255.0:\n",
    "        state[pos] = 0.0 \n",
    "        orient = (orient+3)%4 # Turning anti-clockwise\n",
    "    \n",
    "    # Finding the next state\n",
    "    if orient == 0:\n",
    "        if pos[1]-1>0:\n",
    "            pos = (pos[0], pos[1]-1)\n",
    "    elif orient == 1:\n",
    "        if pos[0]+1<n:\n",
    "            pos = (pos[0]+1, pos[1])\n",
    "    elif orient == 2:\n",
    "        if pos[1]+1<n:\n",
    "            pos = (pos[0], pos[1]+1)\n",
    "    elif orient == 3:\n",
    "        if pos[0]-1>0:\n",
    "            pos = (pos[0]-1, pos[1])\n",
    "            \n",
    "    if time<1500:\n",
    "        if time%100==0:\n",
    "            fname = \"Iteration-\"+str(time)+\".png\"\n",
    "            cv2.imwrite(fname, state)\n",
    "    else:\n",
    "        if time%1000==0:\n",
    "            fname = \"Iteration-\"+str(time)+\".png\"\n",
    "            cv2.imwrite(fname, state)"
   ]
  },
  {
   "cell_type": "code",
   "execution_count": null,
   "metadata": {},
   "outputs": [],
   "source": []
  }
 ],
 "metadata": {
  "kernelspec": {
   "display_name": "Python 3.8.5 64-bit ('base': conda)",
   "language": "python",
   "name": "python385jvsc74a57bd00aecec0a255461a7fdf48717fca0ab45832ba4249b9229dde511dcafce9ade38"
  },
  "language_info": {
   "codemirror_mode": {
    "name": "ipython",
    "version": 3
   },
   "file_extension": ".py",
   "mimetype": "text/x-python",
   "name": "python",
   "nbconvert_exporter": "python",
   "pygments_lexer": "ipython3",
   "version": "3.8.5"
  }
 },
 "nbformat": 4,
 "nbformat_minor": 4
}
