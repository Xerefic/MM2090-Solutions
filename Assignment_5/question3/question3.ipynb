{
 "cells": [
  {
   "cell_type": "markdown",
   "metadata": {},
   "source": [
    "## Defining the Polynomial"
   ]
  },
  {
   "cell_type": "code",
   "execution_count": 1,
   "metadata": {},
   "outputs": [],
   "source": [
    "var('x, a0,a1,a2,a3,a4,a5,a6')\n",
    "x = polygen(ZZ) \n",
    "eq = a0 + a1*x + a2*x^2 + a3*x^3 + a4*x^4 + a5*x^5 + a6*x^6"
   ]
  },
  {
   "cell_type": "code",
   "execution_count": 2,
   "metadata": {},
   "outputs": [
    {
     "data": {
      "text/html": [
       "<html><script type=\"math/tex; mode=display\">\\newcommand{\\Bold}[1]{\\mathbf{#1}}a_{6} x^{6} + a_{5} x^{5} + a_{4} x^{4} + a_{3} x^{3} + a_{2} x^{2} + a_{1} x + a_{0}</script></html>"
      ],
      "text/latex": [
       "\\begin{math}\n",
       "\\newcommand{\\Bold}[1]{\\mathbf{#1}}a_{6} x^{6} + a_{5} x^{5} + a_{4} x^{4} + a_{3} x^{3} + a_{2} x^{2} + a_{1} x + a_{0}\n",
       "\\end{math}"
      ],
      "text/plain": [
       "a6*x^6 + a5*x^5 + a4*x^4 + a3*x^3 + a2*x^2 + a1*x + a0"
      ]
     },
     "metadata": {},
     "output_type": "display_data"
    }
   ],
   "source": [
    "eq.show()"
   ]
  },
  {
   "cell_type": "code",
   "execution_count": 3,
   "metadata": {},
   "outputs": [
    {
     "data": {
      "text/html": [
       "<html><script type=\"math/tex; mode=display\">\\newcommand{\\Bold}[1]{\\mathbf{#1}}x^{6} - 5 \\, x + 1</script></html>"
      ],
      "text/latex": [
       "\\begin{math}\n",
       "\\newcommand{\\Bold}[1]{\\mathbf{#1}}x^{6} - 5 \\, x + 1\n",
       "\\end{math}"
      ],
      "text/plain": [
       "x^6 - 5*x + 1"
      ]
     },
     "metadata": {},
     "output_type": "display_data"
    }
   ],
   "source": [
    "eq1 = eq.subs([a0==1],[a1==-5],[a2==0],[a3==0],[a4==0],[a5==0],[a6==1])\n",
    "eq1.show()"
   ]
  },
  {
   "cell_type": "markdown",
   "metadata": {},
   "source": [
    "### Solving for the given polynomial\n",
    "\n",
    "Although the generalized solution to $ a_0+a_1x+a_2x^2+a_3x^3+a_4x^4+a_5x^5+a_6x^6 = 0 $ does not exist, it is certainly possible to find the roots given the co-efficients."
   ]
  },
  {
   "cell_type": "code",
   "execution_count": 4,
   "metadata": {},
   "outputs": [
    {
     "data": {
      "text/plain": [
       "[(0.2000128049178756?, 1),\n",
       " (1.335687296057259?, 1),\n",
       " (-1.153570400482396? - 0.812646548862507?*I, 1),\n",
       " (-1.153570400482396? + 0.812646548862507?*I, 1),\n",
       " (0.385720349994829? - 1.315729182385585?*I, 1),\n",
       " (0.385720349994829? + 1.315729182385585?*I, 1)]"
      ]
     },
     "execution_count": 4,
     "metadata": {},
     "output_type": "execute_result"
    }
   ],
   "source": [
    "x = polygen(ZZ)\n",
    "eq1 = x^6-5*x+1 \n",
    "eq1.roots(ring=CIF)"
   ]
  },
  {
   "cell_type": "code",
   "execution_count": 5,
   "metadata": {},
   "outputs": [
    {
     "data": {
      "image/png": "[encoded data removed]",
      "text/plain": [
       "Graphics object consisting of 12 graphics primitives"
      ]
     },
     "metadata": {},
     "output_type": "display_data"
    }
   ],
   "source": [
    "p = Graphics()\n",
    "for i in eq1.roots(ring=CIF):\n",
    "    p+= i[0].plot()\n",
    "    \n",
    "p.show(axes_labels=['Real','Imaginary'])\n",
    "p.save(\"Roots.png\")"
   ]
  },
  {
   "cell_type": "markdown",
   "metadata": {},
   "source": [
    "## Enclosing Circle\n",
    "\n",
    "Iterating through two and three points at a time and finding if the circumcircle encompasses all other points"
   ]
  },
  {
   "cell_type": "code",
   "execution_count": 6,
   "metadata": {},
   "outputs": [],
   "source": [
    "# Inspired from GeeksforGeeks\n",
    "\n",
    "INF = 10**18\n",
    "\n",
    "def dist(a, b):\n",
    "    # Returns distance between two points\n",
    "    return sqrt( (a[0]-b[0])**2 + (a[1]-b[1])**2)\n",
    "\n",
    "\n",
    "def is_inside(c, p):\n",
    "    # Checks if point p lies inside circle\n",
    "    return dist(c[0], p) <= c[1]\n",
    "\n",
    "\n",
    "def get_circle_center(bx, by, cx, cy):\n",
    "    # Returns the centre of circumcircle of A, B, C\n",
    "    B = bx * bx + by * by\n",
    "    C = cx * cx + cy * cy\n",
    "    D = bx * cy - by * cx\n",
    "    return [(cy * B - by * C) / (2 * D), (bx * C - cx * B) / (2 * D) ]\n",
    "\n",
    "def circle_from_3(A, B, C):\n",
    "    I = get_circle_center(B[0] - A[0], B[1] - A[1], C[0] - A[0], C[1] - A[1])\n",
    "    I[0] += A[0]\n",
    "    I[1] += A[1]\n",
    "    return [I, dist(I, A)]\n",
    "\n",
    "def circle_from_2(A, B):\n",
    "    C = [ (A[0] + B[0]) / 2.0, (A[1] + B[1]) / 2.0]\n",
    "    return [C, dist(A, B) / 2.0]\n",
    "\n",
    "def is_valid_circle(c, P):\n",
    "    for p in P:\n",
    "        if (is_inside(c, p) == False):\n",
    "            return False\n",
    "    return True\n",
    "\n",
    "def minimum_enclosing_circle(P):\n",
    "    # Iterates through all possible circles and finds the Enclosing Circle\n",
    "    \n",
    "    n = len(P)\n",
    "    if (n == 0):\n",
    "        return [[0, 0], 0]\n",
    "    if (n == 1):\n",
    "        return [P[0], 0]\n",
    "\n",
    "    mec = [[0, 0], INF]\n",
    "\n",
    "    for i in range(n):\n",
    "        for j in range(i + 1, n):\n",
    "            tmp = circle_from_2(P[i], P[j])\n",
    "            if (tmp[1] < mec[1] and is_valid_circle(tmp, P)):\n",
    "                mec = tmp\n",
    "                \n",
    "    for i in range(n):\n",
    "        for j in range(i + 1, n):\n",
    "            for k in range(j + 1, n):\n",
    "                tmp = circle_from_3(P[i], P[j], P[k])\n",
    "                \n",
    "                if (tmp[1] < mec[1] and is_valid_circle(tmp, P)):\n",
    "                    mec = tmp\n",
    "    return mec\n",
    "\n",
    "def convert_to_points(z):\n",
    "    points = []\n",
    "    for point in z:\n",
    "        points.append([point[0].real().n(digits=2), point[0].imag().n(digits=2)])\n",
    "    return points"
   ]
  },
  {
   "cell_type": "code",
   "execution_count": 7,
   "metadata": {},
   "outputs": [],
   "source": [
    "root = eq1.roots(ring=CIF)\n",
    "points = convert_to_points(root)\n",
    "mec = minimum_enclosing_circle(points)"
   ]
  },
  {
   "cell_type": "code",
   "execution_count": 8,
   "metadata": {},
   "outputs": [
    {
     "data": {
      "image/png": "[encoded data removed]",
      "text/plain": [
       "Graphics object consisting of 13 graphics primitives"
      ]
     },
     "metadata": {},
     "output_type": "display_data"
    }
   ],
   "source": [
    "p = Graphics()\n",
    "for i in eq1.roots(ring=CIF):\n",
    "    p+= i[0].plot(color='red')\n",
    "    \n",
    "p+= circle(mec[0], mec[1], color='green')\n",
    "    \n",
    "p.show(axes_labels=['Real','Imaginary'])\n",
    "p.save(\"Enclosed.png\")"
   ]
  },
  {
   "cell_type": "code",
   "execution_count": null,
   "metadata": {},
   "outputs": [],
   "source": []
  }
 ],
 "metadata": {
  "kernelspec": {
   "display_name": "SageMath 9.2",
   "language": "sage",
   "name": "sagemath"
  },
  "language_info": {
   "codemirror_mode": {
    "name": "ipython",
    "version": 3
   },
   "file_extension": ".py",
   "mimetype": "text/x-python",
   "name": "python",
   "nbconvert_exporter": "python",
   "pygments_lexer": "ipython3",
   "version": "3.8.5"
  }
 },
 "nbformat": 4,
 "nbformat_minor": 4
}
