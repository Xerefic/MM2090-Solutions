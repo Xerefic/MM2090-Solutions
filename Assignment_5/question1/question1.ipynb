{
 "cells": [
  {
   "cell_type": "code",
   "execution_count": 1,
   "metadata": {},
   "outputs": [],
   "source": [
    "from sage.misc.converting_dict import KeyConvertingDict"
   ]
  },
  {
   "cell_type": "code",
   "execution_count": 2,
   "metadata": {},
   "outputs": [],
   "source": [
    "A = list(range(1, 225+1, 1))"
   ]
  },
  {
   "cell_type": "code",
   "execution_count": 3,
   "metadata": {},
   "outputs": [],
   "source": [
    "def findMaxCount(array):\n",
    "    count = KeyConvertingDict(int)\n",
    "    for i in array:\n",
    "        count[i]=0\n",
    "    for i in range(len(array)):\n",
    "        for j in range(i+1,len(array)):\n",
    "            a = array[i]\n",
    "            b = array[j]\n",
    "            if a!=b and ZZ(abs(a-b)).is_square():\n",
    "                count[a]+=1\n",
    "                count[b]+=1\n",
    "    counted = []\n",
    "    for key in count.keys():\n",
    "        if count[key]>0:\n",
    "            counted.append((count[key], -1*key))\n",
    "    return sorted(counted)[::-1]"
   ]
  },
  {
   "cell_type": "code",
   "execution_count": 4,
   "metadata": {},
   "outputs": [],
   "source": [
    "while len(findMaxCount(A))!=0:\n",
    "    #print(findMaxCount(A)[0])\n",
    "    A.remove(-1*findMaxCount(A)[0][1])"
   ]
  },
  {
   "cell_type": "code",
   "execution_count": 5,
   "metadata": {},
   "outputs": [
    {
     "name": "stdout",
     "output_type": "stream",
     "text": [
      "[6, 8, 30, 32, 35, 38, 43, 45, 62, 65, 67, 75, 80, 86, 88, 93, 112, 115, 125, 136, 158, 160, 163, 168, 171, 173, 190, 195, 203, 208, 210, 213, 216, 218, 221, 223]\n"
     ]
    }
   ],
   "source": [
    "print(A)"
   ]
  },
  {
   "cell_type": "code",
   "execution_count": 6,
   "metadata": {},
   "outputs": [
    {
     "data": {
      "text/plain": [
       "36"
      ]
     },
     "execution_count": 6,
     "metadata": {},
     "output_type": "execute_result"
    }
   ],
   "source": [
    "len(A)"
   ]
  },
  {
   "cell_type": "code",
   "execution_count": 7,
   "metadata": {},
   "outputs": [],
   "source": [
    "A = list(range(1, 225+1, 1))"
   ]
  },
  {
   "cell_type": "code",
   "execution_count": 8,
   "metadata": {},
   "outputs": [],
   "source": [
    "squares = [i*i for i in range(1, int(sqrt(255))+1, 1) ]"
   ]
  },
  {
   "cell_type": "code",
   "execution_count": 9,
   "metadata": {},
   "outputs": [],
   "source": [
    "B = A.copy()[::-1]\n",
    "for i in B:\n",
    "    for j in squares:\n",
    "        if B.count(i-j):\n",
    "            B.remove(i-j)\n",
    "C = A.copy()\n",
    "for i in C:\n",
    "    for j in squares:\n",
    "        if C.count(i+j):\n",
    "            C.remove(i+j)"
   ]
  },
  {
   "cell_type": "code",
   "execution_count": 10,
   "metadata": {},
   "outputs": [
    {
     "name": "stdout",
     "output_type": "stream",
     "text": [
      "[225, 223, 220, 218, 215, 213, 210, 208, 205, 203, 191, 186, 181, 173, 168, 163, 160, 158, 153, 140, 130, 116, 106, 101, 98, 95, 93, 88, 83, 78, 75, 55, 48, 45, 43, 38, 33, 28, 21, 15, 10]\n",
      "[1, 3, 6, 8, 11, 13, 16, 18, 21, 23, 35, 40, 45, 53, 58, 63, 66, 68, 73, 86, 96, 110, 120, 125, 128, 131, 133, 138, 143, 148, 151, 171, 178, 181, 183, 188, 193, 198, 205, 211, 216]\n"
     ]
    }
   ],
   "source": [
    "print(B)\n",
    "print(C)"
   ]
  },
  {
   "cell_type": "code",
   "execution_count": 11,
   "metadata": {},
   "outputs": [
    {
     "name": "stdout",
     "output_type": "stream",
     "text": [
      "41\n",
      "41\n"
     ]
    }
   ],
   "source": [
    "print(len(B))\n",
    "print(len(C))"
   ]
  },
  {
   "cell_type": "code",
   "execution_count": 12,
   "metadata": {},
   "outputs": [
    {
     "name": "stdout",
     "output_type": "stream",
     "text": [
      "[]\n",
      "[]\n"
     ]
    }
   ],
   "source": [
    "print(findMaxCount(B))\n",
    "print(findMaxCount(C))"
   ]
  },
  {
   "cell_type": "code",
   "execution_count": null,
   "metadata": {},
   "outputs": [],
   "source": []
  }
 ],
 "metadata": {
  "kernelspec": {
   "display_name": "SageMath 9.2",
   "language": "sage",
   "name": "sagemath"
  },
  "language_info": {
   "codemirror_mode": {
    "name": "ipython",
    "version": 3
   },
   "file_extension": ".py",
   "mimetype": "text/x-python",
   "name": "python",
   "nbconvert_exporter": "python",
   "pygments_lexer": "ipython3",
   "version": "3.8.5"
  }
 },
 "nbformat": 4,
 "nbformat_minor": 4
}
