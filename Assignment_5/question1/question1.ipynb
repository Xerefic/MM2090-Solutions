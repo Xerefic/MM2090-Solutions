{
 "cells": [
  {
   "cell_type": "code",
   "execution_count": 1,
   "metadata": {},
   "outputs": [],
   "source": [
    "from sage.misc.converting_dict import KeyConvertingDict"
   ]
  },
  {
   "cell_type": "markdown",
   "metadata": {},
   "source": [
    "## Utility Function\n",
    "\n",
    "The findMaxCount function takes a list and checks if there are any two elements such that their difference is a square and returns the pairs."
   ]
  },
  {
   "cell_type": "code",
   "execution_count": 2,
   "metadata": {},
   "outputs": [],
   "source": [
    "def findMaxCount(array):\n",
    "    count = KeyConvertingDict(int)\n",
    "    for i in array:\n",
    "        count[i]=0\n",
    "    for i in range(len(array)):\n",
    "        for j in range(i+1,len(array)):\n",
    "            a = array[i]\n",
    "            b = array[j]\n",
    "            if a!=b and ZZ(abs(a-b)).is_square():\n",
    "                count[a]+=1\n",
    "                count[b]+=1\n",
    "    counted = []\n",
    "    for key in count.keys():\n",
    "        if count[key]>0:\n",
    "            counted.append((count[key], -1*key))\n",
    "    return sorted(counted)[::-1]"
   ]
  },
  {
   "cell_type": "code",
   "execution_count": 3,
   "metadata": {},
   "outputs": [],
   "source": [
    "# Creating the subset A\n",
    "A = list(range(1, 225+1, 1))"
   ]
  },
  {
   "cell_type": "code",
   "execution_count": 4,
   "metadata": {},
   "outputs": [],
   "source": [
    "# Finding the squares less than 225\n",
    "squares = [i*i for i in range(1, int(sqrt(255))+1, 1) ]"
   ]
  },
  {
   "cell_type": "markdown",
   "metadata": {},
   "source": [
    "## Logic\n",
    "\n",
    "Iterate through the array, for every element $i$, remove $i+k^2$ from the array, where $k \\in squares$ \\\n",
    "\n",
    "Consider a random set $A \\equiv \\{ a_0, a_1,...,a_n\\}$. As we are only worried about the difference of any two elements, we can condiser the set $A^\\prime \\equiv \\{ 1, a_1-a_0+1,...,a_n-a_0+1\\}$. Applying the above algorithm will therefore yeild the longest subset of $A$ with no two elements whose difference is a perfect square."
   ]
  },
  {
   "cell_type": "code",
   "execution_count": 5,
   "metadata": {},
   "outputs": [],
   "source": [
    "B = A.copy()\n",
    "for i in B:\n",
    "    for j in squares:\n",
    "        if B.count(i+j):\n",
    "            B.remove(i+j)\n",
    "C = A.copy()[::-1]\n",
    "for i in C:\n",
    "    for j in squares:\n",
    "        if C.count(i-j):\n",
    "            C.remove(i-j)"
   ]
  },
  {
   "cell_type": "code",
   "execution_count": 6,
   "metadata": {},
   "outputs": [
    {
     "name": "stdout",
     "output_type": "stream",
     "text": [
      "The Maximum length of Subset B of A is  41\n"
     ]
    }
   ],
   "source": [
    "print(\"The Maximum length of Subset B of A is \", len(B))"
   ]
  },
  {
   "cell_type": "code",
   "execution_count": 7,
   "metadata": {},
   "outputs": [
    {
     "name": "stdout",
     "output_type": "stream",
     "text": [
      "The Subset B is \n",
      "[1, 3, 6, 8, 11, 13, 16, 18, 21, 23, 35, 40, 45, 53, 58, 63, 66, 68, 73, 86, 96, 110, 120, 125, 128, 131, 133, 138, 143, 148, 151, 171, 178, 181, 183, 188, 193, 198, 205, 211, 216]\n"
     ]
    }
   ],
   "source": [
    "print(\"The Subset B is \")\n",
    "print(B)"
   ]
  },
  {
   "cell_type": "code",
   "execution_count": 8,
   "metadata": {},
   "outputs": [
    {
     "data": {
      "text/plain": [
       "[]"
      ]
     },
     "execution_count": 8,
     "metadata": {},
     "output_type": "execute_result"
    }
   ],
   "source": [
    "# Testing if B is a valid subset\n",
    "findMaxCount(B)"
   ]
  },
  {
   "cell_type": "code",
   "execution_count": null,
   "metadata": {},
   "outputs": [],
   "source": []
  }
 ],
 "metadata": {
  "kernelspec": {
   "display_name": "SageMath 9.2",
   "language": "sage",
   "name": "sagemath"
  },
  "language_info": {
   "codemirror_mode": {
    "name": "ipython",
    "version": 3
   },
   "file_extension": ".py",
   "mimetype": "text/x-python",
   "name": "python",
   "nbconvert_exporter": "python",
   "pygments_lexer": "ipython3",
   "version": "3.8.5"
  }
 },
 "nbformat": 4,
 "nbformat_minor": 4
}
