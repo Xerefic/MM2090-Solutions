{
 "cells": [
  {
   "cell_type": "code",
   "execution_count": 4,
   "metadata": {},
   "outputs": [],
   "source": [
    "from sage.plot.plot3d.transform import rotate_arbitrary\n",
    "\n",
    "from sage.repl.ipython_kernel.interact import sage_interactive"
   ]
  },
  {
   "cell_type": "code",
   "execution_count": 5,
   "metadata": {},
   "outputs": [],
   "source": [
    "step=14\n",
    "PI = math.pi"
   ]
  },
  {
   "cell_type": "code",
   "execution_count": 16,
   "metadata": {},
   "outputs": [],
   "source": [
    "def plotfun(r, p):\n",
    "    g = Graphics()\n",
    "    ct=0\n",
    "    for n in srange(0, 2*PI+PI/step, PI/step):\n",
    "        (x,y) = (p*math.cos(n), p*math.sin(n)) \n",
    "        g += circle((x,y), r, rgbcolor=hue(ct/(2*step)))\n",
    "        ct+=1\n",
    "\n",
    "    g.show()"
   ]
  },
  {
   "cell_type": "code",
   "execution_count": 17,
   "metadata": {},
   "outputs": [
    {
     "data": {
      "application/vnd.jupyter.widget-view+json": {
       "model_id": "bd6682aca55b41fa8f085e614f5f4032",
       "version_major": 2,
       "version_minor": 0
      },
      "text/plain": [
       "Interactive function <function plotfun at 0x7f8cf03613a0> with 2 widgets\n",
       "  r: FloatSlider(value=1.0, descripti…"
      ]
     },
     "metadata": {},
     "output_type": "display_data"
    }
   ],
   "source": [
    "sage_interactive(plotfun, r=(0,3,0.5), p=(0,3,0.5))"
   ]
  },
  {
   "cell_type": "code",
   "execution_count": null,
   "metadata": {},
   "outputs": [],
   "source": []
  }
 ],
 "metadata": {
  "kernelspec": {
   "display_name": "SageMath 9.2",
   "language": "sage",
   "name": "sagemath"
  },
  "language_info": {
   "codemirror_mode": {
    "name": "ipython",
    "version": 3
   },
   "file_extension": ".py",
   "mimetype": "text/x-python",
   "name": "python",
   "nbconvert_exporter": "python",
   "pygments_lexer": "ipython3",
   "version": "3.8.5"
  }
 },
 "nbformat": 4,
 "nbformat_minor": 4
}
