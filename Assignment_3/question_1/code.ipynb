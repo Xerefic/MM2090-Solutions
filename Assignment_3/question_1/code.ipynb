{
 "metadata": {
  "language_info": {
   "codemirror_mode": {
    "name": "ipython",
    "version": 3
   },
   "file_extension": ".py",
   "mimetype": "text/x-python",
   "name": "python",
   "nbconvert_exporter": "python",
   "pygments_lexer": "ipython3",
   "version": "3.8.5"
  },
  "orig_nbformat": 2,
  "kernelspec": {
   "name": "python385jvsc74a57bd00aecec0a255461a7fdf48717fca0ab45832ba4249b9229dde511dcafce9ade38",
   "display_name": "Python 3.8.5 64-bit ('base': conda)"
  },
  "metadata": {
   "interpreter": {
    "hash": "0aecec0a255461a7fdf48717fca0ab45832ba4249b9229dde511dcafce9ade38"
   }
  }
 },
 "nbformat": 4,
 "nbformat_minor": 2,
 "cells": [
  {
   "cell_type": "code",
   "execution_count": 1,
   "metadata": {},
   "outputs": [],
   "source": [
    "import pandas as pd\n",
    "import numpy as np"
   ]
  },
  {
   "cell_type": "code",
   "execution_count": 2,
   "metadata": {},
   "outputs": [],
   "source": [
    "commands = []\n",
    "with open(\"table.txt\") as file:\n",
    "    for line in file:\n",
    "        commands.append(line.strip())"
   ]
  },
  {
   "cell_type": "code",
   "execution_count": 3,
   "metadata": {},
   "outputs": [],
   "source": [
    "def findOperation(line):\n",
    "    if line.find(\"is-a\")!=-1:\n",
    "        return (\"is-a\")\n",
    "    elif line.find(\"has-row\")!=-1:\n",
    "        return (\"has-row\")\n",
    "    elif line.find(\"has-slot\")!=-1:\n",
    "        return (\"has-slot\")\n",
    "    elif line.find(\"starts-at\")!=-1:\n",
    "        return (\"starts-at\")\n",
    "    elif line.find(\"ends-at\")!=-1:\n",
    "        return (\"ends-at\")  "
   ]
  },
  {
   "cell_type": "code",
   "execution_count": 4,
   "metadata": {},
   "outputs": [],
   "source": [
    "def getArguments(line):\n",
    "    return [ entry.strip() for entry in line.split(findOperation(line)) ]"
   ]
  },
  {
   "cell_type": "code",
   "execution_count": 5,
   "metadata": {},
   "outputs": [],
   "source": [
    "def getColumns():\n",
    "    header = [\"Row\"] + [str(time) for time in range(8,17+1)]\n",
    "    columns = dict( [column, None] for column in header )\n",
    "    return columns"
   ]
  },
  {
   "cell_type": "code",
   "execution_count": 6,
   "metadata": {},
   "outputs": [],
   "source": [
    "def makeRows(commands):\n",
    "    rows = []\n",
    "    for line in commands:\n",
    "        if findOperation(line)==\"has-row\":\n",
    "            rows.append(getArguments(line)[1])\n",
    "    return rows"
   ]
  },
  {
   "cell_type": "code",
   "execution_count": 7,
   "metadata": {},
   "outputs": [],
   "source": [
    "def getTime(commands):\n",
    "    slots = []\n",
    "    for line in commands:\n",
    "        if findOperation(line)==\"starts-at\":\n",
    "            slots.append(getArguments(line)[0]) \n",
    "    slots = dict([slot, None] for slot in slots)\n",
    "    \n",
    "    for slot in slots:\n",
    "        related = [line for line in commands if getArguments(line)[0]==slot]\n",
    "        start = [getArguments(line)[1] for line in related if findOperation(line)==\"starts-at\"]\n",
    "        end = [getArguments(line)[1] for line in related if findOperation(line)==\"ends-at\"]\n",
    "        start = int(start[0].split(':')[0])\n",
    "        end = int(end[0].split(':')[0])\n",
    "\n",
    "        slots[slot] = [str(time) for time in range(start, end+1)]    \n",
    "    return slots"
   ]
  },
  {
   "cell_type": "code",
   "execution_count": 8,
   "metadata": {},
   "outputs": [],
   "source": [
    "def getSlots(commands):\n",
    "    slots = dict([ [row, list()] for row in makeRows(commands) ])\n",
    "    for line in commands:\n",
    "        if findOperation(line)==\"has-slot\":\n",
    "            row, slot = getArguments(line)\n",
    "            slots[row].append([slot, getTime(commands)[slot]])\n",
    "    return slots"
   ]
  },
  {
   "cell_type": "code",
   "execution_count": 9,
   "metadata": {},
   "outputs": [],
   "source": [
    "def makeTable():\n",
    "    slots = getSlots(commands)\n",
    "    rows = []\n",
    "    for row in slots.keys():\n",
    "        data = getColumns()\n",
    "        data[\"Row\"] = row\n",
    "        for slot in slots[row]:\n",
    "            for time in slot[1]:\n",
    "                data[time] = slot[0]\n",
    "        rows.append(data)\n",
    "    return rows"
   ]
  },
  {
   "cell_type": "code",
   "execution_count": 10,
   "metadata": {},
   "outputs": [],
   "source": [
    "def canOverlap(table, row1, row2):\n",
    "    flag=True\n",
    "    for row in contents:\n",
    "        if row[\"Row\"]==row1:\n",
    "            rowA = row\n",
    "        if row[\"Row\"]==row2:\n",
    "            rowB = row\n",
    "\n",
    "    for key in getColumns().keys():\n",
    "        if key!=\"Row\":\n",
    "            if rowA[key]!=None and rowB[key]!=None:\n",
    "                flag=False\n",
    "                break\n",
    "\n",
    "    return flag"
   ]
  },
  {
   "cell_type": "code",
   "execution_count": 11,
   "metadata": {},
   "outputs": [],
   "source": [
    "def getClashes(table):\n",
    "    clashes = []\n",
    "    pairable = []\n",
    "    rows = makeRows(commands)\n",
    "    for row1 in rows:\n",
    "        for row2 in rows:\n",
    "            if row1!=row2:\n",
    "                if canOverlap(table, row1, row2):\n",
    "                    if pairable.count(sorted([row1,row2]))==0:\n",
    "                        pairable.append(sorted([row1,row2]))\n",
    "                else:\n",
    "                    if clashes.count(sorted([row1,row2]))==0:\n",
    "                        clashes.append(sorted([row1,row2]))\n",
    "    return clashes, pairable"
   ]
  },
  {
   "cell_type": "code",
   "execution_count": 12,
   "metadata": {},
   "outputs": [],
   "source": [
    "contents = makeTable()"
   ]
  },
  {
   "cell_type": "code",
   "execution_count": 13,
   "metadata": {},
   "outputs": [],
   "source": [
    "table = pd.DataFrame(makeTable())"
   ]
  },
  {
   "cell_type": "code",
   "execution_count": 14,
   "metadata": {},
   "outputs": [
    {
     "output_type": "execute_result",
     "data": {
      "text/plain": [
       "<pandas.io.formats.style.Styler at 0x7f53de67f040>"
      ],
      "text/html": "<style  type=\"text/css\" >\n</style><table id=\"T_82744fe4_c914_11eb_b0c8_550cdc83ea47\" ><thead>    <tr>        <th class=\"col_heading level0 col0\" >Row</th>        <th class=\"col_heading level0 col1\" >8</th>        <th class=\"col_heading level0 col2\" >9</th>        <th class=\"col_heading level0 col3\" >10</th>        <th class=\"col_heading level0 col4\" >11</th>        <th class=\"col_heading level0 col5\" >12</th>        <th class=\"col_heading level0 col6\" >13</th>        <th class=\"col_heading level0 col7\" >14</th>        <th class=\"col_heading level0 col8\" >15</th>        <th class=\"col_heading level0 col9\" >16</th>        <th class=\"col_heading level0 col10\" >17</th>    </tr></thead><tbody>\n                <tr>\n                                <td id=\"T_82744fe4_c914_11eb_b0c8_550cdc83ea47row0_col0\" class=\"data row0 col0\" >Day-1</td>\n                        <td id=\"T_82744fe4_c914_11eb_b0c8_550cdc83ea47row0_col1\" class=\"data row0 col1\" >None</td>\n                        <td id=\"T_82744fe4_c914_11eb_b0c8_550cdc83ea47row0_col2\" class=\"data row0 col2\" >Slot-1</td>\n                        <td id=\"T_82744fe4_c914_11eb_b0c8_550cdc83ea47row0_col3\" class=\"data row0 col3\" >Slot-1</td>\n                        <td id=\"T_82744fe4_c914_11eb_b0c8_550cdc83ea47row0_col4\" class=\"data row0 col4\" >None</td>\n                        <td id=\"T_82744fe4_c914_11eb_b0c8_550cdc83ea47row0_col5\" class=\"data row0 col5\" >None</td>\n                        <td id=\"T_82744fe4_c914_11eb_b0c8_550cdc83ea47row0_col6\" class=\"data row0 col6\" >Slot-2</td>\n                        <td id=\"T_82744fe4_c914_11eb_b0c8_550cdc83ea47row0_col7\" class=\"data row0 col7\" >Slot-2</td>\n                        <td id=\"T_82744fe4_c914_11eb_b0c8_550cdc83ea47row0_col8\" class=\"data row0 col8\" >None</td>\n                        <td id=\"T_82744fe4_c914_11eb_b0c8_550cdc83ea47row0_col9\" class=\"data row0 col9\" >None</td>\n                        <td id=\"T_82744fe4_c914_11eb_b0c8_550cdc83ea47row0_col10\" class=\"data row0 col10\" >None</td>\n            </tr>\n            <tr>\n                                <td id=\"T_82744fe4_c914_11eb_b0c8_550cdc83ea47row1_col0\" class=\"data row1 col0\" >Day-2</td>\n                        <td id=\"T_82744fe4_c914_11eb_b0c8_550cdc83ea47row1_col1\" class=\"data row1 col1\" >None</td>\n                        <td id=\"T_82744fe4_c914_11eb_b0c8_550cdc83ea47row1_col2\" class=\"data row1 col2\" >None</td>\n                        <td id=\"T_82744fe4_c914_11eb_b0c8_550cdc83ea47row1_col3\" class=\"data row1 col3\" >None</td>\n                        <td id=\"T_82744fe4_c914_11eb_b0c8_550cdc83ea47row1_col4\" class=\"data row1 col4\" >None</td>\n                        <td id=\"T_82744fe4_c914_11eb_b0c8_550cdc83ea47row1_col5\" class=\"data row1 col5\" >Slot-3</td>\n                        <td id=\"T_82744fe4_c914_11eb_b0c8_550cdc83ea47row1_col6\" class=\"data row1 col6\" >Slot-3</td>\n                        <td id=\"T_82744fe4_c914_11eb_b0c8_550cdc83ea47row1_col7\" class=\"data row1 col7\" >None</td>\n                        <td id=\"T_82744fe4_c914_11eb_b0c8_550cdc83ea47row1_col8\" class=\"data row1 col8\" >None</td>\n                        <td id=\"T_82744fe4_c914_11eb_b0c8_550cdc83ea47row1_col9\" class=\"data row1 col9\" >None</td>\n                        <td id=\"T_82744fe4_c914_11eb_b0c8_550cdc83ea47row1_col10\" class=\"data row1 col10\" >None</td>\n            </tr>\n            <tr>\n                                <td id=\"T_82744fe4_c914_11eb_b0c8_550cdc83ea47row2_col0\" class=\"data row2 col0\" >Day-3</td>\n                        <td id=\"T_82744fe4_c914_11eb_b0c8_550cdc83ea47row2_col1\" class=\"data row2 col1\" >None</td>\n                        <td id=\"T_82744fe4_c914_11eb_b0c8_550cdc83ea47row2_col2\" class=\"data row2 col2\" >None</td>\n                        <td id=\"T_82744fe4_c914_11eb_b0c8_550cdc83ea47row2_col3\" class=\"data row2 col3\" >None</td>\n                        <td id=\"T_82744fe4_c914_11eb_b0c8_550cdc83ea47row2_col4\" class=\"data row2 col4\" >Slot-4</td>\n                        <td id=\"T_82744fe4_c914_11eb_b0c8_550cdc83ea47row2_col5\" class=\"data row2 col5\" >Slot-4</td>\n                        <td id=\"T_82744fe4_c914_11eb_b0c8_550cdc83ea47row2_col6\" class=\"data row2 col6\" >None</td>\n                        <td id=\"T_82744fe4_c914_11eb_b0c8_550cdc83ea47row2_col7\" class=\"data row2 col7\" >None</td>\n                        <td id=\"T_82744fe4_c914_11eb_b0c8_550cdc83ea47row2_col8\" class=\"data row2 col8\" >None</td>\n                        <td id=\"T_82744fe4_c914_11eb_b0c8_550cdc83ea47row2_col9\" class=\"data row2 col9\" >Slot-5</td>\n                        <td id=\"T_82744fe4_c914_11eb_b0c8_550cdc83ea47row2_col10\" class=\"data row2 col10\" >Slot-5</td>\n            </tr>\n    </tbody></table>"
     },
     "metadata": {},
     "execution_count": 14
    }
   ],
   "source": [
    "table.style.hide_index()"
   ]
  }
 ]
}