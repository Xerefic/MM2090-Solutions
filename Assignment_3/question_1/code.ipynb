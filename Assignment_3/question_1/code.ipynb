{
 "metadata": {
  "language_info": {
   "codemirror_mode": {
    "name": "ipython",
    "version": 3
   },
   "file_extension": ".py",
   "mimetype": "text/x-python",
   "name": "python",
   "nbconvert_exporter": "python",
   "pygments_lexer": "ipython3",
   "version": "3.8.5"
  },
  "orig_nbformat": 2,
  "kernelspec": {
   "name": "python385jvsc74a57bd00aecec0a255461a7fdf48717fca0ab45832ba4249b9229dde511dcafce9ade38",
   "display_name": "Python 3.8.5 64-bit ('base': conda)"
  },
  "metadata": {
   "interpreter": {
    "hash": "0aecec0a255461a7fdf48717fca0ab45832ba4249b9229dde511dcafce9ade38"
   }
  }
 },
 "nbformat": 4,
 "nbformat_minor": 2,
 "cells": [
  {
   "cell_type": "code",
   "execution_count": null,
   "metadata": {},
   "outputs": [],
   "source": [
    "import pandas as pd\n",
    "from pandas.plotting import table \n",
    "import numpy as np\n",
    "import matplotlib.pyplot as plt"
   ]
  },
  {
   "cell_type": "code",
   "execution_count": null,
   "metadata": {},
   "outputs": [],
   "source": [
    "commands = []\n",
    "with open(\"table.txt\") as file:\n",
    "    for line in file:\n",
    "        commands.append(line.strip())"
   ]
  },
  {
   "cell_type": "code",
   "execution_count": null,
   "metadata": {},
   "outputs": [],
   "source": [
    "def findOperation(line):\n",
    "    if line.find(\"is-a\")!=-1:\n",
    "        return (\"is-a\")\n",
    "    elif line.find(\"has-row\")!=-1:\n",
    "        return (\"has-row\")\n",
    "    elif line.find(\"has-slot\")!=-1:\n",
    "        return (\"has-slot\")\n",
    "    elif line.find(\"starts-at\")!=-1:\n",
    "        return (\"starts-at\")\n",
    "    elif line.find(\"ends-at\")!=-1:\n",
    "        return (\"ends-at\")  "
   ]
  },
  {
   "cell_type": "code",
   "execution_count": null,
   "metadata": {},
   "outputs": [],
   "source": [
    "def getArguments(line):\n",
    "    return [ entry.strip() for entry in line.split(findOperation(line)) ]"
   ]
  },
  {
   "cell_type": "code",
   "execution_count": null,
   "metadata": {},
   "outputs": [],
   "source": [
    "def getColumns():\n",
    "    header = [\"Row\"] + [str(time) for time in range(8,17+1)]\n",
    "    columns = dict( [column, None] for column in header )\n",
    "    return columns"
   ]
  },
  {
   "cell_type": "code",
   "execution_count": null,
   "metadata": {},
   "outputs": [],
   "source": [
    "def makeRows(commands):\n",
    "    rows = []\n",
    "    for line in commands:\n",
    "        if findOperation(line)==\"has-row\":\n",
    "            rows.append(getArguments(line)[1])\n",
    "    return rows"
   ]
  },
  {
   "cell_type": "code",
   "execution_count": null,
   "metadata": {},
   "outputs": [],
   "source": [
    "def getTime(commands):\n",
    "    slots = []\n",
    "    for line in commands:\n",
    "        if findOperation(line)==\"starts-at\":\n",
    "            slots.append(getArguments(line)[0]) \n",
    "    slots = dict([slot, None] for slot in slots)\n",
    "    \n",
    "    for slot in slots:\n",
    "        related = [line for line in commands if getArguments(line)[0]==slot]\n",
    "        start = [getArguments(line)[1] for line in related if findOperation(line)==\"starts-at\"]\n",
    "        end = [getArguments(line)[1] for line in related if findOperation(line)==\"ends-at\"]\n",
    "        start = int(start[0].split(':')[0])\n",
    "        end = int(end[0].split(':')[0])\n",
    "\n",
    "        slots[slot] = [str(time) for time in range(start, end+1)]    \n",
    "    return slots"
   ]
  },
  {
   "cell_type": "code",
   "execution_count": null,
   "metadata": {},
   "outputs": [],
   "source": [
    "def getSlots(commands):\n",
    "    slots = dict([ [row, list()] for row in makeRows(commands) ])\n",
    "    for line in commands:\n",
    "        if findOperation(line)==\"has-slot\":\n",
    "            row, slot = getArguments(line)\n",
    "            slots[row].append([slot, getTime(commands)[slot]])\n",
    "    return slots"
   ]
  },
  {
   "cell_type": "code",
   "execution_count": null,
   "metadata": {},
   "outputs": [],
   "source": [
    "def makeTable():\n",
    "    slots = getSlots(commands)\n",
    "    rows = []\n",
    "    for row in slots.keys():\n",
    "        data = getColumns()\n",
    "        data[\"Row\"] = row\n",
    "        for slot in slots[row]:\n",
    "            for time in slot[1]:\n",
    "                data[time] = slot[0]\n",
    "        rows.append(data)\n",
    "    return rows"
   ]
  },
  {
   "cell_type": "code",
   "execution_count": null,
   "metadata": {},
   "outputs": [],
   "source": [
    "def canOverlap(table, row1, row2):\n",
    "    flag=True\n",
    "    for row in contents:\n",
    "        if row[\"Row\"]==row1:\n",
    "            rowA = row\n",
    "        if row[\"Row\"]==row2:\n",
    "            rowB = row\n",
    "\n",
    "    for key in getColumns().keys():\n",
    "        if key!=\"Row\":\n",
    "            if rowA[key]!=None and rowB[key]!=None:\n",
    "                flag=False\n",
    "                break\n",
    "\n",
    "    return flag"
   ]
  },
  {
   "cell_type": "code",
   "execution_count": null,
   "metadata": {},
   "outputs": [],
   "source": [
    "def getClashes(table):\n",
    "    clashes = []\n",
    "    pairable = []\n",
    "    rows = makeRows(commands)\n",
    "    for row1 in rows:\n",
    "        for row2 in rows:\n",
    "            if row1!=row2:\n",
    "                if canOverlap(table, row1, row2):\n",
    "                    if pairable.count(sorted([row1,row2]))==0:\n",
    "                        pairable.append(sorted([row1,row2]))\n",
    "                else:\n",
    "                    if clashes.count(sorted([row1,row2]))==0:\n",
    "                        clashes.append(sorted([row1,row2]))\n",
    "    return clashes, pairable"
   ]
  },
  {
   "source": [
    "def rename(table):\n",
    "    for i in range(table.shape[0]):\n",
    "        table = table.rename(index={i: table.iloc[i][\"Row\"]})\n",
    "    table.drop(columns=[\"Row\"], inplace=True)\n",
    "    return table"
   ],
   "cell_type": "code",
   "metadata": {},
   "execution_count": null,
   "outputs": []
  },
  {
   "cell_type": "code",
   "execution_count": null,
   "metadata": {},
   "outputs": [],
   "source": [
    "contents = makeTable()"
   ]
  },
  {
   "cell_type": "code",
   "execution_count": null,
   "metadata": {},
   "outputs": [],
   "source": [
    "timetable = pd.DataFrame(makeTable())"
   ]
  },
  {
   "cell_type": "code",
   "execution_count": null,
   "metadata": {},
   "outputs": [],
   "source": [
    "timetable.style.hide_index()"
   ]
  },
  {
   "cell_type": "code",
   "execution_count": null,
   "metadata": {},
   "outputs": [],
   "source": [
    "import dataframe_image as dfi"
   ]
  },
  {
   "cell_type": "code",
   "execution_count": null,
   "metadata": {},
   "outputs": [],
   "source": [
    "df_styled = timetable.style.background_gradient()"
   ]
  },
  {
   "cell_type": "code",
   "execution_count": null,
   "metadata": {},
   "outputs": [],
   "source": [
    "dfi.export(df_styled,\"mytable.png\")"
   ]
  }
 ]
}