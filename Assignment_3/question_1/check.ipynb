{
 "metadata": {
  "language_info": {
   "codemirror_mode": {
    "name": "ipython",
    "version": 3
   },
   "file_extension": ".py",
   "mimetype": "text/x-python",
   "name": "python",
   "nbconvert_exporter": "python",
   "pygments_lexer": "ipython3",
   "version": "3.8.5"
  },
  "orig_nbformat": 2,
  "kernelspec": {
   "name": "python385jvsc74a57bd00aecec0a255461a7fdf48717fca0ab45832ba4249b9229dde511dcafce9ade38",
   "display_name": "Python 3.8.5 64-bit ('base': conda)"
  },
  "metadata": {
   "interpreter": {
    "hash": "0aecec0a255461a7fdf48717fca0ab45832ba4249b9229dde511dcafce9ade38"
   }
  }
 },
 "nbformat": 4,
 "nbformat_minor": 2,
 "cells": [
  {
   "cell_type": "code",
   "execution_count": null,
   "metadata": {},
   "outputs": [],
   "source": [
    "import pandas as pd\n",
    " \n",
    "import numpy as np"
   ]
  },
  {
   "cell_type": "code",
   "execution_count": null,
   "metadata": {},
   "outputs": [],
   "source": [
    "commands = []\n",
    "with open(\"table.txt\") as file:\n",
    "    for line in file:\n",
    "        commands.append(line.strip())"
   ]
  },
  {
   "cell_type": "code",
   "execution_count": null,
   "metadata": {},
   "outputs": [],
   "source": [
    "def getOperation(commands):\n",
    "    TITLE = []; ROWS = []; SLOTS = []; TIME = []; \n",
    "    for line in commands:\n",
    "        if line.find(\"is-a\")!=-1:\n",
    "            TITLE.append(line)\n",
    "        elif line.find(\"has-row\")!=-1:\n",
    "            ROWS.append(line)\n",
    "        elif line.find(\"has-slot\")!=-1:\n",
    "            SLOTS.append(line)\n",
    "        elif line.find(\"starts-at\")!=-1 or line.find(\"ends-at\")!=-1:\n",
    "            TIME.append(line)\n",
    "    return TITLE, ROWS, SLOTS, TIME"
   ]
  },
  {
   "cell_type": "code",
   "execution_count": null,
   "metadata": {},
   "outputs": [],
   "source": [
    "def findOperation(line):\n",
    "    if line.find(\"is-a\")!=-1:\n",
    "        return (\"is-a\")\n",
    "    elif line.find(\"has-row\")!=-1:\n",
    "        return (\"has-row\")\n",
    "    elif line.find(\"has-slot\")!=-1:\n",
    "        return (\"has-slot\")\n",
    "    elif line.find(\"starts-at\")!=-1:\n",
    "        return (\"starts-at\")\n",
    "    elif line.find(\"ends-at\")!=-1:\n",
    "        return (\"ends-at\")  "
   ]
  },
  {
   "cell_type": "code",
   "execution_count": null,
   "metadata": {},
   "outputs": [],
   "source": [
    "def getArguments(line):\n",
    "    return [ entry.strip() for entry in line.split(findOperation(line)) ]"
   ]
  },
  {
   "cell_type": "code",
   "execution_count": null,
   "metadata": {},
   "outputs": [],
   "source": [
    "def getColumns():\n",
    "    header = [\"Row\"] + [str(time) for time in range(8,17+1)]\n",
    "    columns = dict( [column, None] for column in header )\n",
    "    return columns"
   ]
  },
  {
   "cell_type": "code",
   "execution_count": null,
   "metadata": {},
   "outputs": [],
   "source": [
    "def makeTime():\n",
    "    return {\"Start\": None, \"End\": None}"
   ]
  },
  {
   "cell_type": "code",
   "execution_count": null,
   "metadata": {},
   "outputs": [],
   "source": [
    "def makeRows(ROWS):\n",
    "    rows = []\n",
    "    for line in ROWS:\n",
    "        if findOperation(line)==\"has-row\":\n",
    "            rows.append(getArguments(line)[1])\n",
    "    return rows"
   ]
  },
  {
   "cell_type": "code",
   "execution_count": null,
   "metadata": {},
   "outputs": [],
   "source": [
    "def getSlots(ROWS, SLOTS):\n",
    "    rows = dict([[row, []] for row in makeRows(ROWS)])\n",
    "    for line in SLOTS:\n",
    "        if findOperation(line)==\"has-slot\":\n",
    "            row, slot = getArguments(line)\n",
    "            rows[row].append(slot)\n",
    "    return dict(rows)"
   ]
  },
  {
   "cell_type": "code",
   "execution_count": null,
   "metadata": {},
   "outputs": [],
   "source": [
    "def getTime(SLOTS, TIME):\n",
    "    data = []\n",
    "    for line in SLOTS:\n",
    "        if findOperation(line)==\"has-slot\":\n",
    "            row, slot = getArguments(line)\n",
    "            data.append([slot, makeTime()])\n",
    "    data = dict(data)       \n",
    "    for line in TIME:\n",
    "        if findOperation(line)==\"starts-at\":\n",
    "            operation = \"Start\"\n",
    "        elif findOperation(line)==\"ends-at\":\n",
    "            operation = \"End\"\n",
    "        slot, time = getArguments(line)\n",
    "        data[slot][operation]=time\n",
    "        \n",
    "    return data"
   ]
  },
  {
   "cell_type": "code",
   "execution_count": null,
   "metadata": {},
   "outputs": [],
   "source": [
    "def makeTable(ROWS, SLOTS, TIME):\n",
    "    slots = getSlots(ROWS, SLOTS)\n",
    "    time = getTime(SLOTS, TIME)\n",
    "    table = []\n",
    "    for row in slots.keys():\n",
    "        data = getColumns()\n",
    "        data[\"Row\"]=row\n",
    "        for i in range(len(slots[row])):\n",
    "            slot = slots[row][i]\n",
    "            start = time[slot][\"Start\"]\n",
    "            start = int(start.split(':')[0])\n",
    "            end = time[slot][\"End\"]\n",
    "            end = int(end.split(':')[0])\n",
    "            for column in range(start, end+1):\n",
    "                data[str(column)]=slot\n",
    "        table.append(data)\n",
    "    return table"
   ]
  },
  {
   "cell_type": "code",
   "execution_count": null,
   "metadata": {},
   "outputs": [],
   "source": [
    "TITLE, ROWS, SLOTS, TIME = getOperation(commands)"
   ]
  },
  {
   "cell_type": "code",
   "execution_count": null,
   "metadata": {},
   "outputs": [],
   "source": []
  }
 ]
}