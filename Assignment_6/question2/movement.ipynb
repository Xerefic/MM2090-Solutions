{
 "cells": [
  {
   "cell_type": "code",
   "execution_count": 1,
   "id": "73abf244",
   "metadata": {},
   "outputs": [],
   "source": [
    "state = zeros(130,130);"
   ]
  },
  {
   "cell_type": "code",
   "execution_count": 2,
   "id": "0b266311",
   "metadata": {},
   "outputs": [],
   "source": [
    "for row = 2:size(state)(1)-1\n",
    "    for column = 2:size(state)(2)-1\n",
    "        value = rand();\n",
    "        if (value>=0.5)\n",
    "            state(row,column)=255;\n",
    "        endif\n",
    "    endfor\n",
    "endfor\n",
    "history = state;"
   ]
  },
  {
   "cell_type": "code",
   "execution_count": 3,
   "id": "8efe25c4",
   "metadata": {},
   "outputs": [
    {
     "name": "stdout",
     "output_type": "stream",
     "text": [
      "warning: your version of GraphicsMagick limits images to 8 bits per pixel\r\n"
     ]
    },
    {
     "data": {
      "image/png": "[encoded data removed]",
      "text/plain": [
       "<IPython.core.display.Image object>"
      ]
     },
     "metadata": {},
     "output_type": "display_data"
    }
   ],
   "source": [
    "imshow(state)\n",
    "imwrite(state, \"Iteration-0.png\")"
   ]
  },
  {
   "cell_type": "code",
   "execution_count": 4,
   "id": "2ce8a864",
   "metadata": {},
   "outputs": [],
   "source": [
    "N = 10^5;\n",
    "for time = 1:N\n",
    "    x = floor(rand()*size(state)(1));\n",
    "    y = floor(rand()*size(state)(2));\n",
    "    if ((x>2)&&(x<size(state)(1)-2)&&(y>2)&&(y<size(state)(2)-2))\n",
    "        like = sum(sum(state(x-1:x+1, y-1:y+1)));\n",
    "        if (like>4*255)\n",
    "            state(x,y)=255;\n",
    "        else\n",
    "            state(x,y)=0;\n",
    "        endif\n",
    "    endif\n",
    "    if (mod(time,5000)==0)\n",
    "        name = sprintf(\"Iteration-%d.png\", time);\n",
    "        imwrite(state, name);\n",
    "    endif\n",
    "endfor"
   ]
  }
 ],
 "metadata": {
  "kernelspec": {
   "display_name": "Octave",
   "language": "octave",
   "name": "octave"
  },
  "language_info": {
   "file_extension": ".m",
   "help_links": [
    {
     "text": "GNU Octave",
     "url": "https://www.gnu.org/software/octave/support.html"
    },
    {
     "text": "Octave Kernel",
     "url": "https://github.com/Calysto/octave_kernel"
    },
    {
     "text": "MetaKernel Magics",
     "url": "https://metakernel.readthedocs.io/en/latest/source/README.html"
    }
   ],
   "mimetype": "text/x-octave",
   "name": "octave",
   "version": "6.2.0"
  }
 },
 "nbformat": 4,
 "nbformat_minor": 5
}
